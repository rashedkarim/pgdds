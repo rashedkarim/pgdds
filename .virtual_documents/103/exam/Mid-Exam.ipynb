


# Name: Md Rashed Karim
# Student ID: 905242031
import numpy as np





arr1 = np.random.randint(15,size=5)
arr1


arr2 = np.random.randint(20, 50, size=5)
arr2





np.sort(np.unique(arr1))


np.sort(np.unique(arr2))





even_arr1 = arr1[arr1 % 2 == 0].sum()
even_arr1


even_arr2 = arr2[arr2 % 2 == 0].sum()
even_arr2





d2 = np.vstack((arr1, arr2))
d2





column_max = np.max(d2, axis=0)
column_max





import pandas as pd
df = pd.read_csv("movie.csv")
df





print("Missing values in the DataFrame:")
df.isnull()


df.dropna()





df['year'] = df['year'] = df['year'].fillna(0).astype(int)
df





df.rename(columns={'title': 'Movie Name'})





df[df['budget'] == df['budget'].max()]





df.head(10)





# df.info()
df[df['actor2_fb'] > df['actor1_fb']]





director_movie_count = df.groupby('director_name')['title'].count()
director_movie_count
top_director = director_movie_count.idxmax()
max_movies = director_movie_count.max()

print(f'The director: "{top_director}" who produced {max_movies} movies.')
# df[df['director_name'] > df['actor1_fb']]
