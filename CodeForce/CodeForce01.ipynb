{
 "cells": [
  {
   "cell_type": "code",
   "execution_count": 25,
   "id": "fe1d6571-b9cc-49e9-a5ff-fbfb21f13283",
   "metadata": {},
   "outputs": [
    {
     "data": {
      "text/plain": [
       "'qwq'"
      ]
     },
     "execution_count": 25,
     "metadata": {},
     "output_type": "execute_result"
    }
   ],
   "source": [
    "def pq(s):\n",
    "    ret = 'q' if s == 'p' \n",
    "    ret = 'p' if s == 'q' \n",
    "    return ret\n",
    "    \n",
    "n = int(input())\n",
    "lst = []\n",
    "\n",
    "for i in range(n):\n",
    "    t = input()\n",
    "    for x in t:\n",
    "        t.replace(pq(x))\n",
    "txt = a[::-1]\n",
    "txt"
   ]
  }
 ],
 "metadata": {
  "kernelspec": {
   "display_name": "Python 3 (ipykernel)",
   "language": "python",
   "name": "python3"
  },
  "language_info": {
   "codemirror_mode": {
    "name": "ipython",
    "version": 3
   },
   "file_extension": ".py",
   "mimetype": "text/x-python",
   "name": "python",
   "nbconvert_exporter": "python",
   "pygments_lexer": "ipython3",
   "version": "3.12.7"
  }
 },
 "nbformat": 4,
 "nbformat_minor": 5
}
