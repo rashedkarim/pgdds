{
 "cells": [
  {
   "cell_type": "code",
   "execution_count": 1,
   "id": "ea39f206-6dea-474d-af50-1863f4f50ec7",
   "metadata": {},
   "outputs": [
    {
     "data": {
      "text/plain": [
       "array(['Male', 'Male', 'Female'], dtype=object)"
      ]
     },
     "execution_count": 1,
     "metadata": {},
     "output_type": "execute_result"
    }
   ],
   "source": [
    "import numpy as np\n",
    "import pandas as pd\n",
    "sex = pd.Series(['Male','Male','Female'])\n",
    "sexx = np.array(sex)\n",
    "sexx"
   ]
  },
  {
   "cell_type": "code",
   "execution_count": 5,
   "id": "d590071e-4929-442e-ba81-c81860ec9082",
   "metadata": {},
   "outputs": [
    {
     "data": {
      "text/plain": [
       "array([[ 7,  3, 10,  8],\n",
       "       [ 6,  4,  4,  1],\n",
       "       [ 0,  3, 11,  5],\n",
       "       [ 3,  9,  2,  0]])"
      ]
     },
     "execution_count": 5,
     "metadata": {},
     "output_type": "execute_result"
    }
   ],
   "source": [
    "A = np.random.randint(15,size=(4,4))\n",
    "A"
   ]
  },
  {
   "cell_type": "code",
   "execution_count": 47,
   "id": "7beb2442-4f3d-47b6-8b1a-9d067d4e6e44",
   "metadata": {},
   "outputs": [
    {
     "name": "stdout",
     "output_type": "stream",
     "text": [
      "[[ 14  32]\n",
      " [ 38  92]\n",
      " [ 62 152]]\n"
     ]
    }
   ],
   "source": [
    "import numpy as np\n",
    "\n",
    "A = np.array([[1, 2, 3], [5, 6, 7], [9, 10, 11]])\n",
    "B = np.array([[1, 4], [2, 5], [3, 6]])  # Make sure B has compatible dimensions\n",
    "#C = A * B\n",
    "#C = np.dot(A,B)\n",
    "C = np.matmul(A, B)\n",
    "print(C)"
   ]
  },
  {
   "cell_type": "code",
   "execution_count": null,
   "id": "0b64521b-bd27-4c4a-9b70-11a549616631",
   "metadata": {},
   "outputs": [],
   "source": []
  }
 ],
 "metadata": {
  "kernelspec": {
   "display_name": "Python 3 (ipykernel)",
   "language": "python",
   "name": "python3"
  },
  "language_info": {
   "codemirror_mode": {
    "name": "ipython",
    "version": 3
   },
   "file_extension": ".py",
   "mimetype": "text/x-python",
   "name": "python",
   "nbconvert_exporter": "python",
   "pygments_lexer": "ipython3",
   "version": "3.12.7"
  }
 },
 "nbformat": 4,
 "nbformat_minor": 5
}
