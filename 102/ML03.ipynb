{
 "cells": [
  {
   "cell_type": "code",
   "execution_count": 49,
   "id": "ec074cae-70b0-446b-ac83-c6b7a9e1528c",
   "metadata": {},
   "outputs": [
    {
     "data": {
      "text/plain": [
       "pandas.core.frame.DataFrame"
      ]
     },
     "execution_count": 49,
     "metadata": {},
     "output_type": "execute_result"
    }
   ],
   "source": [
    "import numpy as np\n",
    "import pandas as pd\n",
    "arr1 = np.array([[1,2],[3,4]])\n",
    "arr1 * arr1\n",
    "# df = pd.DataFrame([[1,2],[3,4]])\n",
    "# df\n",
    "\n",
    "df = pd.DataFrame(arr1)\n",
    "df\n",
    "dd = df[[0]]\n",
    "type(dd)"
   ]
  },
  {
   "cell_type": "code",
   "execution_count": null,
   "id": "f3b91bdc-cc9b-443f-b085-792d5298dd95",
   "metadata": {},
   "outputs": [],
   "source": [
    "import pickle\n",
    "\n",
    "with open('test.txt', 'wt') as file:\n",
    "    mod = pickle.dump(model, file)"
   ]
  }
 ],
 "metadata": {
  "kernelspec": {
   "display_name": "Python 3 (ipykernel)",
   "language": "python",
   "name": "python3"
  },
  "language_info": {
   "codemirror_mode": {
    "name": "ipython",
    "version": 3
   },
   "file_extension": ".py",
   "mimetype": "text/x-python",
   "name": "python",
   "nbconvert_exporter": "python",
   "pygments_lexer": "ipython3",
   "version": "3.12.7"
  }
 },
 "nbformat": 4,
 "nbformat_minor": 5
}
