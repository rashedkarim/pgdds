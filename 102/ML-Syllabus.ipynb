{
 "cells": [
  {
   "cell_type": "markdown",
   "id": "fafe6502-9f35-4b39-bd13-92777cecb622",
   "metadata": {},
   "source": [
    "Machine Learning using Python \n",
    "1.\tIntroduction to Machine Learning\n",
    "2.\tFeature Scaling, Principal Component Analysis (PCA), \n",
    "3.\tLabel Encoding, Ordinal Encoding, One Hot Encoding, Outlier Removing\n",
    "4.\tSimple Linear Regression, Multiple Linear Regression\n",
    "5.\tLogistic Regression Theory, Algorithm, Hands-on Model\n",
    "6.\tK Nearest Neighbors, Algorithm, Exercise, Model\n",
    "7.\tNaive Bayes Classification Theory, Hands-on\n",
    "8.\tDecision Tree Theory, Hands-on, Introduction to Goggle Colab\n",
    "9.\tRandom Forests, Splitting, Entropy, IG, Bootstrap, Bagging\n",
    "10.\tSupport Vector Machines, How to save and load trained Model\n",
    "11.\tK Means Clustering Theory, Hands-on Model\n",
    "12.\tNatural Language Processing (NLP)"
   ]
  }
 ],
 "metadata": {
  "kernelspec": {
   "display_name": "Python 3 (ipykernel)",
   "language": "python",
   "name": "python3"
  },
  "language_info": {
   "codemirror_mode": {
    "name": "ipython",
    "version": 3
   },
   "file_extension": ".py",
   "mimetype": "text/x-python",
   "name": "python",
   "nbconvert_exporter": "python",
   "pygments_lexer": "ipython3",
   "version": "3.12.7"
  }
 },
 "nbformat": 4,
 "nbformat_minor": 5
}
