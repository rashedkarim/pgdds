{
 "cells": [
  {
   "cell_type": "code",
   "execution_count": 3,
   "id": "97b2678f-6783-4ba4-ae1d-c0e3557b0b8c",
   "metadata": {},
   "outputs": [],
   "source": [
    "import pandas as pd"
   ]
  },
  {
   "cell_type": "code",
   "execution_count": 1,
   "id": "e8f1e194-fb7d-43a7-90b6-caab424f05e2",
   "metadata": {},
   "outputs": [
    {
     "name": "stdout",
     "output_type": "stream",
     "text": [
      "0     Apple\n",
      "1    Banana\n",
      "2    Orange\n",
      "3     Grape\n",
      "dtype: object\n",
      "Apple     1.5\n",
      "Banana    0.8\n",
      "Orange    1.2\n",
      "Grape     1.8\n",
      "dtype: float64\n"
     ]
    }
   ],
   "source": [
    "# Create a Series from a list\n",
    "fruits = pd.Series(['Apple', 'Banana', 'Orange', 'Grape'])\n",
    "print(fruits)\n",
    "\n",
    "# Create a Series with a custom index\n",
    "fruit_prices = pd.Series([1.5, 0.8, 1.2, 1.8], index=['Apple', 'Banana', 'Orange', 'Grape'])\n",
    "print(fruit_prices)"
   ]
  },
  {
   "cell_type": "code",
   "execution_count": 31,
   "id": "da6985a6-fe70-4bd3-ad34-57cc51aed1a6",
   "metadata": {},
   "outputs": [
    {
     "name": "stdout",
     "output_type": "stream",
     "text": [
      "<class 'tuple'>\n",
      "(11, 30, 17449402268886407318558803753801)\n"
     ]
    }
   ],
   "source": [
    "def f(x):\n",
    "    y0 = x + 1\n",
    "    y1 = x * 3\n",
    "    y2 = y0 ** y1\n",
    "    return y0, y1, y2\n",
    "\n",
    "result = f(10)\n",
    "print(type(result))\n",
    "print(result)"
   ]
  },
  {
   "cell_type": "code",
   "execution_count": 1,
   "id": "450a0e7e-730a-4510-b8f7-51588b96be68",
   "metadata": {},
   "outputs": [],
   "source": [
    "import numpy as np"
   ]
  },
  {
   "cell_type": "code",
   "execution_count": null,
   "id": "a5d04ac2-7b21-4470-9e3e-eb0e25cd187a",
   "metadata": {},
   "outputs": [],
   "source": []
  }
 ],
 "metadata": {
  "kernelspec": {
   "display_name": "Python 3 (ipykernel)",
   "language": "python",
   "name": "python3"
  },
  "language_info": {
   "codemirror_mode": {
    "name": "ipython",
    "version": 3
   },
   "file_extension": ".py",
   "mimetype": "text/x-python",
   "name": "python",
   "nbconvert_exporter": "python",
   "pygments_lexer": "ipython3",
   "version": "3.12.7"
  }
 },
 "nbformat": 4,
 "nbformat_minor": 5
}
